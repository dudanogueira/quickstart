{
 "cells": [
  {
   "cell_type": "markdown",
   "metadata": {},
   "source": [
    "## Weaviate quickstart guide (as a notebook!)\n",
    "\n",
    "This notebook will guide you through the basics of Weaviate. You can find the full documentation [on our site here](https://weaviate.io/developers/weaviate/quickstart).\n",
    "\n",
    "<a target=\"_blank\" href=\"https://colab.research.google.com/github/weaviate-tutorials/quickstart/blob/main/quickstart_end_to_end.ipynb\">\n",
    "  <img src=\"https://colab.research.google.com/assets/colab-badge.svg\" alt=\"Open In Colab\"/>\n",
    "</a>"
   ]
  },
  {
   "cell_type": "markdown",
   "metadata": {},
   "source": [
    "You will need the Weaviate Python client. If you don't yet have it installed - you can do so with:"
   ]
  },
  {
   "cell_type": "code",
   "execution_count": null,
   "metadata": {},
   "outputs": [],
   "source": [
    "!pip install -U weaviate-client"
   ]
  },
  {
   "cell_type": "markdown",
   "metadata": {},
   "source": [
    "### Weaviate instance\n",
    "\n",
    "For this, you will need a working instance of Weaviate somewhere. We recommend either:\n",
    "- Creating a free sandbox instance on Weaviate Cloud Database (WCD) (https://console.weaviate.cloud/), or\n",
    "- Using [Embedded Weaviate](https://weaviate.io/developers/weaviate/installation/embedded).\n",
    "\n",
    "Instantiate the client using **one** of the following code examples:"
   ]
  },
  {
   "cell_type": "markdown",
   "metadata": {},
   "source": [
    "#### For using WCD\n",
    "\n",
    "NOTE: Before you do this, you need to create the instance in WCS and get the credentials. Please refer to the [WCD Quickstart guide](https://weaviate.io/developers/wcs/quickstart)."
   ]
  },
  {
   "cell_type": "code",
   "execution_count": null,
   "metadata": {},
   "outputs": [],
   "source": [
    "# # For using WCD\n",
    "# import weaviate\n",
    "# from weaviate.classes.init import Auth\n",
    "# import os\n",
    "\n",
    "# # Best practice: store your credentials in environment variables\n",
    "# wcd_url = os.environ[\"WCD_DEMO_URL\"]\n",
    "# wcd_api_key = os.environ[\"WCD_DEMO_RO_KEY\"]\n",
    "# openai_api_key = os.environ[\"OPENAI_APIKEY\"]\n",
    "\n",
    "# with weaviate.connect_to_weaviate_cloud(\n",
    "#     cluster_url=wcd_url,  # Replace with your Weaviate Cloud URL\n",
    "#     auth_credentials=Auth.api_key(wcd_api_key),  # Replace with your Weaviate Cloud key\n",
    "#     headers={\n",
    "#         'X-OpenAI-Api-key': openai_api_key  # Replace with appropriate header key/value pair for the required API\n",
    "#     }\n",
    "# ) as client:  # Use this context manager to ensure the connection is closed\n",
    "#     print(client.is_ready())"
   ]
  },
  {
   "cell_type": "markdown",
   "metadata": {},
   "source": [
    "#### For using Embedded Weaviate\n",
    "\n",
    "This will spin up a Weaviate instance in the background."
   ]
  },
  {
   "cell_type": "code",
   "execution_count": 17,
   "metadata": {},
   "outputs": [
    {
     "name": "stderr",
     "output_type": "stream",
     "text": [
      "{\"action\":\"startup\",\"build_git_commit\":\"05de0dbea\",\"build_go_version\":\"go1.23.2\",\"build_image_tag\":\"HEAD\",\"build_wv_version\":\"1.27.1\",\"default_vectorizer_module\":\"none\",\"level\":\"info\",\"msg\":\"the default vectorizer modules is set to \\\"none\\\", as a result all new schema classes without an explicit vectorizer setting, will use this vectorizer\",\"time\":\"2024-11-10T10:56:13-03:00\"}\n",
      "{\"action\":\"startup\",\"auto_schema_enabled\":true,\"build_git_commit\":\"05de0dbea\",\"build_go_version\":\"go1.23.2\",\"build_image_tag\":\"HEAD\",\"build_wv_version\":\"1.27.1\",\"level\":\"info\",\"msg\":\"auto schema enabled setting is set to \\\"true\\\"\",\"time\":\"2024-11-10T10:56:13-03:00\"}\n",
      "{\"build_git_commit\":\"05de0dbea\",\"build_go_version\":\"go1.23.2\",\"build_image_tag\":\"HEAD\",\"build_wv_version\":\"1.27.1\",\"level\":\"info\",\"msg\":\"No resource limits set, weaviate will use all available memory and CPU. To limit resources, set LIMIT_RESOURCES=true\",\"time\":\"2024-11-10T10:56:13-03:00\"}\n",
      "{\"build_git_commit\":\"05de0dbea\",\"build_go_version\":\"go1.23.2\",\"build_image_tag\":\"HEAD\",\"build_wv_version\":\"1.27.1\",\"level\":\"info\",\"msg\":\"module offload-s3 is enabled\",\"time\":\"2024-11-10T10:56:13-03:00\"}\n",
      "{\"build_git_commit\":\"05de0dbea\",\"build_go_version\":\"go1.23.2\",\"build_image_tag\":\"HEAD\",\"build_wv_version\":\"1.27.1\",\"level\":\"warning\",\"msg\":\"Multiple vector spaces are present, GraphQL Explore and REST API list objects endpoint module include params has been disabled as a result.\",\"time\":\"2024-11-10T10:56:13-03:00\"}\n",
      "{\"build_git_commit\":\"05de0dbea\",\"build_go_version\":\"go1.23.2\",\"build_image_tag\":\"HEAD\",\"build_wv_version\":\"1.27.1\",\"level\":\"info\",\"msg\":\"open cluster service\",\"servers\":{\"Embedded_at_8079\":59667},\"time\":\"2024-11-10T10:56:13-03:00\"}\n",
      "{\"address\":\"192.168.28.99:59668\",\"build_git_commit\":\"05de0dbea\",\"build_go_version\":\"go1.23.2\",\"build_image_tag\":\"HEAD\",\"build_wv_version\":\"1.27.1\",\"level\":\"info\",\"msg\":\"starting cloud rpc server ...\",\"time\":\"2024-11-10T10:56:13-03:00\"}\n",
      "{\"build_git_commit\":\"05de0dbea\",\"build_go_version\":\"go1.23.2\",\"build_image_tag\":\"HEAD\",\"build_wv_version\":\"1.27.1\",\"level\":\"info\",\"msg\":\"starting raft sub-system ...\",\"time\":\"2024-11-10T10:56:13-03:00\"}\n",
      "{\"address\":\"192.168.28.99:59667\",\"build_git_commit\":\"05de0dbea\",\"build_go_version\":\"go1.23.2\",\"build_image_tag\":\"HEAD\",\"build_wv_version\":\"1.27.1\",\"level\":\"info\",\"msg\":\"tcp transport\",\"tcpMaxPool\":3,\"tcpTimeout\":10000000000,\"time\":\"2024-11-10T10:56:13-03:00\"}\n",
      "{\"build_git_commit\":\"05de0dbea\",\"build_go_version\":\"go1.23.2\",\"build_image_tag\":\"HEAD\",\"build_wv_version\":\"1.27.1\",\"level\":\"info\",\"msg\":\"loading local db\",\"time\":\"2024-11-10T10:56:13-03:00\"}\n",
      "{\"build_git_commit\":\"05de0dbea\",\"build_go_version\":\"go1.23.2\",\"build_image_tag\":\"HEAD\",\"build_wv_version\":\"1.27.1\",\"level\":\"info\",\"msg\":\"local DB successfully loaded\",\"time\":\"2024-11-10T10:56:13-03:00\"}\n",
      "{\"build_git_commit\":\"05de0dbea\",\"build_go_version\":\"go1.23.2\",\"build_image_tag\":\"HEAD\",\"build_wv_version\":\"1.27.1\",\"level\":\"info\",\"msg\":\"schema manager loaded\",\"n\":0,\"time\":\"2024-11-10T10:56:13-03:00\"}\n",
      "{\"build_git_commit\":\"05de0dbea\",\"build_go_version\":\"go1.23.2\",\"build_image_tag\":\"HEAD\",\"build_wv_version\":\"1.27.1\",\"level\":\"info\",\"metadata_only_voters\":false,\"msg\":\"construct a new raft node\",\"name\":\"Embedded_at_8079\",\"time\":\"2024-11-10T10:56:13-03:00\"}\n",
      "{\"action\":\"raft\",\"build_git_commit\":\"05de0dbea\",\"build_go_version\":\"go1.23.2\",\"build_image_tag\":\"HEAD\",\"build_wv_version\":\"1.27.1\",\"index\":111,\"level\":\"info\",\"msg\":\"initial configuration\",\"servers\":\"[[{Suffrage:Voter ID:Embedded_at_8079 Address:192.168.28.99:58947}]]\",\"time\":\"2024-11-10T10:56:13-03:00\"}\n",
      "{\"action\":\"raft\",\"build_git_commit\":\"05de0dbea\",\"build_go_version\":\"go1.23.2\",\"build_image_tag\":\"HEAD\",\"build_wv_version\":\"1.27.1\",\"follower\":{},\"index\":111,\"leader-address\":\"\",\"leader-id\":\"\",\"level\":\"info\",\"msg\":\"entering follower state\",\"servers\":\"[[{Suffrage:Voter ID:Embedded_at_8079 Address:192.168.28.99:58947}]]\",\"time\":\"2024-11-10T10:56:13-03:00\"}\n",
      "{\"build_git_commit\":\"05de0dbea\",\"build_go_version\":\"go1.23.2\",\"build_image_tag\":\"HEAD\",\"build_wv_version\":\"1.27.1\",\"last_snapshot_index\":0,\"last_store_applied_index_on_start\":115,\"level\":\"info\",\"msg\":\"raft node constructed\",\"raft_applied_index\":0,\"raft_last_index\":116,\"time\":\"2024-11-10T10:56:13-03:00\"}\n",
      "{\"build_git_commit\":\"05de0dbea\",\"build_go_version\":\"go1.23.2\",\"build_image_tag\":\"HEAD\",\"build_wv_version\":\"1.27.1\",\"hasState\":true,\"level\":\"info\",\"msg\":\"raft init\",\"time\":\"2024-11-10T10:56:13-03:00\"}\n",
      "{\"build_git_commit\":\"05de0dbea\",\"build_go_version\":\"go1.23.2\",\"build_image_tag\":\"HEAD\",\"build_wv_version\":\"1.27.1\",\"level\":\"info\",\"msg\":\"attempting to join\",\"remoteNodes\":[\"192.168.28.99:59667\"],\"time\":\"2024-11-10T10:56:13-03:00\"}\n",
      "{\"build_git_commit\":\"05de0dbea\",\"build_go_version\":\"go1.23.2\",\"build_image_tag\":\"HEAD\",\"build_wv_version\":\"1.27.1\",\"level\":\"info\",\"msg\":\"attempted to join and failed\",\"remoteNode\":\"192.168.28.99:59667\",\"status\":8,\"time\":\"2024-11-10T10:56:13-03:00\"}\n",
      "{\"build_git_commit\":\"05de0dbea\",\"build_go_version\":\"go1.23.2\",\"build_image_tag\":\"HEAD\",\"build_wv_version\":\"1.27.1\",\"level\":\"info\",\"msg\":\"attempting to join\",\"remoteNodes\":[\"192.168.28.99:59667\"],\"time\":\"2024-11-10T10:56:14-03:00\"}\n",
      "{\"build_git_commit\":\"05de0dbea\",\"build_go_version\":\"go1.23.2\",\"build_image_tag\":\"HEAD\",\"build_wv_version\":\"1.27.1\",\"level\":\"info\",\"msg\":\"attempted to join and failed\",\"remoteNode\":\"192.168.28.99:59667\",\"status\":8,\"time\":\"2024-11-10T10:56:14-03:00\"}\n",
      "{\"action\":\"raft\",\"build_git_commit\":\"05de0dbea\",\"build_go_version\":\"go1.23.2\",\"build_image_tag\":\"HEAD\",\"build_wv_version\":\"1.27.1\",\"follower\":{},\"index\":111,\"last-leader-addr\":\"\",\"last-leader-id\":\"\",\"leader-address\":\"\",\"leader-id\":\"\",\"level\":\"warning\",\"msg\":\"heartbeat timeout reached, starting election\",\"servers\":\"[[{Suffrage:Voter ID:Embedded_at_8079 Address:192.168.28.99:58947}]]\",\"time\":\"2024-11-10T10:56:15-03:00\"}\n",
      "{\"action\":\"raft\",\"build_git_commit\":\"05de0dbea\",\"build_go_version\":\"go1.23.2\",\"build_image_tag\":\"HEAD\",\"build_wv_version\":\"1.27.1\",\"follower\":{},\"index\":111,\"last-leader-addr\":\"\",\"last-leader-id\":\"\",\"leader-address\":\"\",\"leader-id\":\"\",\"level\":\"info\",\"msg\":\"entering candidate state\",\"node\":{},\"servers\":\"[[{Suffrage:Voter ID:Embedded_at_8079 Address:192.168.28.99:58947}]]\",\"term\":37,\"time\":\"2024-11-10T10:56:15-03:00\"}\n",
      "{\"action\":\"raft\",\"build_git_commit\":\"05de0dbea\",\"build_go_version\":\"go1.23.2\",\"build_image_tag\":\"HEAD\",\"build_wv_version\":\"1.27.1\",\"follower\":{},\"from\":\"Embedded_at_8079\",\"id\":\"Embedded_at_8079\",\"index\":111,\"last-leader-addr\":\"\",\"last-leader-id\":\"\",\"leader-address\":\"\",\"leader-id\":\"\",\"level\":\"info\",\"msg\":\"pre-vote successful, starting election\",\"needed\":1,\"node\":{},\"refused\":0,\"servers\":\"[[{Suffrage:Voter ID:Embedded_at_8079 Address:192.168.28.99:58947}]]\",\"tally\":1,\"term\":37,\"time\":\"2024-11-10T10:56:15-03:00\",\"votesNeeded\":1}\n",
      "{\"action\":\"raft\",\"build_git_commit\":\"05de0dbea\",\"build_go_version\":\"go1.23.2\",\"build_image_tag\":\"HEAD\",\"build_wv_version\":\"1.27.1\",\"follower\":{},\"from\":\"Embedded_at_8079\",\"id\":\"Embedded_at_8079\",\"index\":111,\"last-leader-addr\":\"\",\"last-leader-id\":\"\",\"leader-address\":\"\",\"leader-id\":\"\",\"level\":\"info\",\"msg\":\"election won\",\"needed\":1,\"node\":{},\"refused\":0,\"servers\":\"[[{Suffrage:Voter ID:Embedded_at_8079 Address:192.168.28.99:58947}]]\",\"tally\":1,\"term\":37,\"time\":\"2024-11-10T10:56:15-03:00\",\"votesNeeded\":1}\n",
      "{\"action\":\"raft\",\"build_git_commit\":\"05de0dbea\",\"build_go_version\":\"go1.23.2\",\"build_image_tag\":\"HEAD\",\"build_wv_version\":\"1.27.1\",\"follower\":{},\"from\":\"Embedded_at_8079\",\"id\":\"Embedded_at_8079\",\"index\":111,\"last-leader-addr\":\"\",\"last-leader-id\":\"\",\"leader\":{},\"leader-address\":\"\",\"leader-id\":\"\",\"level\":\"info\",\"msg\":\"entering leader state\",\"needed\":1,\"node\":{},\"refused\":0,\"servers\":\"[[{Suffrage:Voter ID:Embedded_at_8079 Address:192.168.28.99:58947}]]\",\"tally\":1,\"term\":37,\"time\":\"2024-11-10T10:56:15-03:00\",\"votesNeeded\":1}\n",
      "{\"build_git_commit\":\"05de0dbea\",\"build_go_version\":\"go1.23.2\",\"build_image_tag\":\"HEAD\",\"build_wv_version\":\"1.27.1\",\"level\":\"info\",\"msg\":\"Schema catching up: applying log entry: [7/115]\",\"time\":\"2024-11-10T10:56:15-03:00\"}\n",
      "{\"build_git_commit\":\"05de0dbea\",\"build_go_version\":\"go1.23.2\",\"build_image_tag\":\"HEAD\",\"build_wv_version\":\"1.27.1\",\"level\":\"info\",\"msg\":\"Schema catching up: applying log entry: [8/115]\",\"time\":\"2024-11-10T10:56:15-03:00\"}\n",
      "{\"build_git_commit\":\"05de0dbea\",\"build_go_version\":\"go1.23.2\",\"build_image_tag\":\"HEAD\",\"build_wv_version\":\"1.27.1\",\"level\":\"info\",\"msg\":\"Schema catching up: applying log entry: [9/115]\",\"time\":\"2024-11-10T10:56:15-03:00\"}\n",
      "{\"build_git_commit\":\"05de0dbea\",\"build_go_version\":\"go1.23.2\",\"build_image_tag\":\"HEAD\",\"build_wv_version\":\"1.27.1\",\"level\":\"info\",\"msg\":\"Schema catching up: applying log entry: [16/115]\",\"time\":\"2024-11-10T10:56:15-03:00\"}\n",
      "{\"build_git_commit\":\"05de0dbea\",\"build_go_version\":\"go1.23.2\",\"build_image_tag\":\"HEAD\",\"build_wv_version\":\"1.27.1\",\"level\":\"info\",\"msg\":\"Schema catching up: applying log entry: [17/115]\",\"time\":\"2024-11-10T10:56:15-03:00\"}\n",
      "{\"build_git_commit\":\"05de0dbea\",\"build_go_version\":\"go1.23.2\",\"build_image_tag\":\"HEAD\",\"build_wv_version\":\"1.27.1\",\"level\":\"info\",\"msg\":\"Schema catching up: applying log entry: [18/115]\",\"time\":\"2024-11-10T10:56:15-03:00\"}\n",
      "{\"build_git_commit\":\"05de0dbea\",\"build_go_version\":\"go1.23.2\",\"build_image_tag\":\"HEAD\",\"build_wv_version\":\"1.27.1\",\"level\":\"info\",\"msg\":\"Schema catching up: applying log entry: [21/115]\",\"time\":\"2024-11-10T10:56:15-03:00\"}\n",
      "{\"build_git_commit\":\"05de0dbea\",\"build_go_version\":\"go1.23.2\",\"build_image_tag\":\"HEAD\",\"build_wv_version\":\"1.27.1\",\"level\":\"info\",\"msg\":\"Schema catching up: applying log entry: [22/115]\",\"time\":\"2024-11-10T10:56:15-03:00\"}\n",
      "{\"build_git_commit\":\"05de0dbea\",\"build_go_version\":\"go1.23.2\",\"build_image_tag\":\"HEAD\",\"build_wv_version\":\"1.27.1\",\"level\":\"info\",\"msg\":\"Schema catching up: applying log entry: [23/115]\",\"time\":\"2024-11-10T10:56:15-03:00\"}\n",
      "{\"build_git_commit\":\"05de0dbea\",\"build_go_version\":\"go1.23.2\",\"build_image_tag\":\"HEAD\",\"build_wv_version\":\"1.27.1\",\"level\":\"info\",\"msg\":\"Schema catching up: applying log entry: [24/115]\",\"time\":\"2024-11-10T10:56:15-03:00\"}\n",
      "{\"build_git_commit\":\"05de0dbea\",\"build_go_version\":\"go1.23.2\",\"build_image_tag\":\"HEAD\",\"build_wv_version\":\"1.27.1\",\"level\":\"info\",\"msg\":\"Schema catching up: applying log entry: [25/115]\",\"time\":\"2024-11-10T10:56:15-03:00\"}\n",
      "{\"build_git_commit\":\"05de0dbea\",\"build_go_version\":\"go1.23.2\",\"build_image_tag\":\"HEAD\",\"build_wv_version\":\"1.27.1\",\"level\":\"info\",\"msg\":\"Schema catching up: applying log entry: [28/115]\",\"time\":\"2024-11-10T10:56:15-03:00\"}\n",
      "{\"build_git_commit\":\"05de0dbea\",\"build_go_version\":\"go1.23.2\",\"build_image_tag\":\"HEAD\",\"build_wv_version\":\"1.27.1\",\"level\":\"info\",\"msg\":\"Schema catching up: applying log entry: [31/115]\",\"time\":\"2024-11-10T10:56:15-03:00\"}\n",
      "{\"build_git_commit\":\"05de0dbea\",\"build_go_version\":\"go1.23.2\",\"build_image_tag\":\"HEAD\",\"build_wv_version\":\"1.27.1\",\"level\":\"info\",\"msg\":\"Schema catching up: applying log entry: [32/115]\",\"time\":\"2024-11-10T10:56:15-03:00\"}\n",
      "{\"build_git_commit\":\"05de0dbea\",\"build_go_version\":\"go1.23.2\",\"build_image_tag\":\"HEAD\",\"build_wv_version\":\"1.27.1\",\"level\":\"info\",\"msg\":\"Schema catching up: applying log entry: [33/115]\",\"time\":\"2024-11-10T10:56:15-03:00\"}\n",
      "{\"build_git_commit\":\"05de0dbea\",\"build_go_version\":\"go1.23.2\",\"build_image_tag\":\"HEAD\",\"build_wv_version\":\"1.27.1\",\"level\":\"info\",\"msg\":\"Schema catching up: applying log entry: [36/115]\",\"time\":\"2024-11-10T10:56:15-03:00\"}\n",
      "{\"build_git_commit\":\"05de0dbea\",\"build_go_version\":\"go1.23.2\",\"build_image_tag\":\"HEAD\",\"build_wv_version\":\"1.27.1\",\"level\":\"info\",\"msg\":\"Schema catching up: applying log entry: [37/115]\",\"time\":\"2024-11-10T10:56:15-03:00\"}\n",
      "{\"build_git_commit\":\"05de0dbea\",\"build_go_version\":\"go1.23.2\",\"build_image_tag\":\"HEAD\",\"build_wv_version\":\"1.27.1\",\"level\":\"info\",\"msg\":\"Schema catching up: applying log entry: [38/115]\",\"time\":\"2024-11-10T10:56:15-03:00\"}\n",
      "{\"build_git_commit\":\"05de0dbea\",\"build_go_version\":\"go1.23.2\",\"build_image_tag\":\"HEAD\",\"build_wv_version\":\"1.27.1\",\"level\":\"info\",\"msg\":\"Schema catching up: applying log entry: [41/115]\",\"time\":\"2024-11-10T10:56:15-03:00\"}\n",
      "{\"build_git_commit\":\"05de0dbea\",\"build_go_version\":\"go1.23.2\",\"build_image_tag\":\"HEAD\",\"build_wv_version\":\"1.27.1\",\"level\":\"info\",\"msg\":\"Schema catching up: applying log entry: [42/115]\",\"time\":\"2024-11-10T10:56:15-03:00\"}\n",
      "{\"build_git_commit\":\"05de0dbea\",\"build_go_version\":\"go1.23.2\",\"build_image_tag\":\"HEAD\",\"build_wv_version\":\"1.27.1\",\"level\":\"info\",\"msg\":\"Schema catching up: applying log entry: [43/115]\",\"time\":\"2024-11-10T10:56:15-03:00\"}\n",
      "{\"build_git_commit\":\"05de0dbea\",\"build_go_version\":\"go1.23.2\",\"build_image_tag\":\"HEAD\",\"build_wv_version\":\"1.27.1\",\"level\":\"info\",\"msg\":\"Schema catching up: applying log entry: [49/115]\",\"time\":\"2024-11-10T10:56:15-03:00\"}\n",
      "{\"build_git_commit\":\"05de0dbea\",\"build_go_version\":\"go1.23.2\",\"build_image_tag\":\"HEAD\",\"build_wv_version\":\"1.27.1\",\"level\":\"info\",\"msg\":\"Schema catching up: applying log entry: [50/115]\",\"time\":\"2024-11-10T10:56:15-03:00\"}\n",
      "{\"build_git_commit\":\"05de0dbea\",\"build_go_version\":\"go1.23.2\",\"build_image_tag\":\"HEAD\",\"build_wv_version\":\"1.27.1\",\"level\":\"info\",\"msg\":\"Schema catching up: applying log entry: [51/115]\",\"time\":\"2024-11-10T10:56:15-03:00\"}\n",
      "{\"build_git_commit\":\"05de0dbea\",\"build_go_version\":\"go1.23.2\",\"build_image_tag\":\"HEAD\",\"build_wv_version\":\"1.27.1\",\"level\":\"info\",\"msg\":\"Schema catching up: applying log entry: [54/115]\",\"time\":\"2024-11-10T10:56:15-03:00\"}\n",
      "{\"build_git_commit\":\"05de0dbea\",\"build_go_version\":\"go1.23.2\",\"build_image_tag\":\"HEAD\",\"build_wv_version\":\"1.27.1\",\"level\":\"info\",\"msg\":\"Schema catching up: applying log entry: [59/115]\",\"time\":\"2024-11-10T10:56:15-03:00\"}\n",
      "{\"build_git_commit\":\"05de0dbea\",\"build_go_version\":\"go1.23.2\",\"build_image_tag\":\"HEAD\",\"build_wv_version\":\"1.27.1\",\"level\":\"info\",\"msg\":\"Schema catching up: applying log entry: [64/115]\",\"time\":\"2024-11-10T10:56:15-03:00\"}\n",
      "{\"build_git_commit\":\"05de0dbea\",\"build_go_version\":\"go1.23.2\",\"build_image_tag\":\"HEAD\",\"build_wv_version\":\"1.27.1\",\"level\":\"info\",\"msg\":\"Schema catching up: applying log entry: [65/115]\",\"time\":\"2024-11-10T10:56:15-03:00\"}\n",
      "{\"build_git_commit\":\"05de0dbea\",\"build_go_version\":\"go1.23.2\",\"build_image_tag\":\"HEAD\",\"build_wv_version\":\"1.27.1\",\"level\":\"info\",\"msg\":\"Schema catching up: applying log entry: [66/115]\",\"time\":\"2024-11-10T10:56:15-03:00\"}\n",
      "{\"build_git_commit\":\"05de0dbea\",\"build_go_version\":\"go1.23.2\",\"build_image_tag\":\"HEAD\",\"build_wv_version\":\"1.27.1\",\"level\":\"info\",\"msg\":\"Schema catching up: applying log entry: [69/115]\",\"time\":\"2024-11-10T10:56:15-03:00\"}\n",
      "{\"build_git_commit\":\"05de0dbea\",\"build_go_version\":\"go1.23.2\",\"build_image_tag\":\"HEAD\",\"build_wv_version\":\"1.27.1\",\"level\":\"info\",\"msg\":\"Schema catching up: applying log entry: [70/115]\",\"time\":\"2024-11-10T10:56:15-03:00\"}\n",
      "{\"build_git_commit\":\"05de0dbea\",\"build_go_version\":\"go1.23.2\",\"build_image_tag\":\"HEAD\",\"build_wv_version\":\"1.27.1\",\"level\":\"info\",\"msg\":\"Schema catching up: applying log entry: [73/115]\",\"time\":\"2024-11-10T10:56:15-03:00\"}\n",
      "{\"build_git_commit\":\"05de0dbea\",\"build_go_version\":\"go1.23.2\",\"build_image_tag\":\"HEAD\",\"build_wv_version\":\"1.27.1\",\"level\":\"info\",\"msg\":\"Schema catching up: applying log entry: [76/115]\",\"time\":\"2024-11-10T10:56:15-03:00\"}\n",
      "{\"build_git_commit\":\"05de0dbea\",\"build_go_version\":\"go1.23.2\",\"build_image_tag\":\"HEAD\",\"build_wv_version\":\"1.27.1\",\"level\":\"info\",\"msg\":\"Schema catching up: applying log entry: [77/115]\",\"time\":\"2024-11-10T10:56:15-03:00\"}\n",
      "{\"build_git_commit\":\"05de0dbea\",\"build_go_version\":\"go1.23.2\",\"build_image_tag\":\"HEAD\",\"build_wv_version\":\"1.27.1\",\"level\":\"info\",\"msg\":\"Schema catching up: applying log entry: [78/115]\",\"time\":\"2024-11-10T10:56:15-03:00\"}\n",
      "{\"build_git_commit\":\"05de0dbea\",\"build_go_version\":\"go1.23.2\",\"build_image_tag\":\"HEAD\",\"build_wv_version\":\"1.27.1\",\"level\":\"info\",\"msg\":\"Schema catching up: applying log entry: [83/115]\",\"time\":\"2024-11-10T10:56:15-03:00\"}\n",
      "{\"build_git_commit\":\"05de0dbea\",\"build_go_version\":\"go1.23.2\",\"build_image_tag\":\"HEAD\",\"build_wv_version\":\"1.27.1\",\"level\":\"info\",\"msg\":\"Schema catching up: applying log entry: [90/115]\",\"time\":\"2024-11-10T10:56:15-03:00\"}\n",
      "{\"build_git_commit\":\"05de0dbea\",\"build_go_version\":\"go1.23.2\",\"build_image_tag\":\"HEAD\",\"build_wv_version\":\"1.27.1\",\"level\":\"info\",\"msg\":\"Schema catching up: applying log entry: [91/115]\",\"time\":\"2024-11-10T10:56:15-03:00\"}\n",
      "{\"build_git_commit\":\"05de0dbea\",\"build_go_version\":\"go1.23.2\",\"build_image_tag\":\"HEAD\",\"build_wv_version\":\"1.27.1\",\"level\":\"info\",\"msg\":\"Schema catching up: applying log entry: [94/115]\",\"time\":\"2024-11-10T10:56:15-03:00\"}\n",
      "{\"build_git_commit\":\"05de0dbea\",\"build_go_version\":\"go1.23.2\",\"build_image_tag\":\"HEAD\",\"build_wv_version\":\"1.27.1\",\"level\":\"info\",\"msg\":\"Schema catching up: applying log entry: [95/115]\",\"time\":\"2024-11-10T10:56:15-03:00\"}\n",
      "{\"build_git_commit\":\"05de0dbea\",\"build_go_version\":\"go1.23.2\",\"build_image_tag\":\"HEAD\",\"build_wv_version\":\"1.27.1\",\"level\":\"info\",\"msg\":\"Schema catching up: applying log entry: [98/115]\",\"time\":\"2024-11-10T10:56:15-03:00\"}\n",
      "{\"build_git_commit\":\"05de0dbea\",\"build_go_version\":\"go1.23.2\",\"build_image_tag\":\"HEAD\",\"build_wv_version\":\"1.27.1\",\"level\":\"info\",\"msg\":\"Schema catching up: applying log entry: [99/115]\",\"time\":\"2024-11-10T10:56:15-03:00\"}\n",
      "{\"build_git_commit\":\"05de0dbea\",\"build_go_version\":\"go1.23.2\",\"build_image_tag\":\"HEAD\",\"build_wv_version\":\"1.27.1\",\"level\":\"info\",\"msg\":\"Schema catching up: applying log entry: [100/115]\",\"time\":\"2024-11-10T10:56:15-03:00\"}\n",
      "{\"build_git_commit\":\"05de0dbea\",\"build_go_version\":\"go1.23.2\",\"build_image_tag\":\"HEAD\",\"build_wv_version\":\"1.27.1\",\"level\":\"info\",\"msg\":\"Schema catching up: applying log entry: [105/115]\",\"time\":\"2024-11-10T10:56:15-03:00\"}\n",
      "{\"build_git_commit\":\"05de0dbea\",\"build_go_version\":\"go1.23.2\",\"build_image_tag\":\"HEAD\",\"build_wv_version\":\"1.27.1\",\"level\":\"info\",\"msg\":\"Schema catching up: applying log entry: [106/115]\",\"time\":\"2024-11-10T10:56:15-03:00\"}\n",
      "{\"build_git_commit\":\"05de0dbea\",\"build_go_version\":\"go1.23.2\",\"build_image_tag\":\"HEAD\",\"build_wv_version\":\"1.27.1\",\"level\":\"info\",\"msg\":\"Schema catching up: applying log entry: [107/115]\",\"time\":\"2024-11-10T10:56:15-03:00\"}\n",
      "{\"build_git_commit\":\"05de0dbea\",\"build_go_version\":\"go1.23.2\",\"build_image_tag\":\"HEAD\",\"build_wv_version\":\"1.27.1\",\"level\":\"info\",\"msg\":\"Schema catching up: applying log entry: [108/115]\",\"time\":\"2024-11-10T10:56:15-03:00\"}\n",
      "{\"build_git_commit\":\"05de0dbea\",\"build_go_version\":\"go1.23.2\",\"build_image_tag\":\"HEAD\",\"build_wv_version\":\"1.27.1\",\"level\":\"info\",\"msg\":\"Schema catching up: applying log entry: [109/115]\",\"time\":\"2024-11-10T10:56:15-03:00\"}\n",
      "{\"build_git_commit\":\"05de0dbea\",\"build_go_version\":\"go1.23.2\",\"build_image_tag\":\"HEAD\",\"build_wv_version\":\"1.27.1\",\"level\":\"info\",\"msg\":\"Schema catching up: applying log entry: [112/115]\",\"time\":\"2024-11-10T10:56:15-03:00\"}\n",
      "{\"build_git_commit\":\"05de0dbea\",\"build_go_version\":\"go1.23.2\",\"build_image_tag\":\"HEAD\",\"build_wv_version\":\"1.27.1\",\"level\":\"info\",\"msg\":\"Schema catching up: applying log entry: [113/115]\",\"time\":\"2024-11-10T10:56:15-03:00\"}\n",
      "{\"build_git_commit\":\"05de0dbea\",\"build_go_version\":\"go1.23.2\",\"build_image_tag\":\"HEAD\",\"build_wv_version\":\"1.27.1\",\"level\":\"info\",\"msg\":\"Schema catching up: applying log entry: [114/115]\",\"time\":\"2024-11-10T10:56:15-03:00\"}\n",
      "{\"build_git_commit\":\"05de0dbea\",\"build_go_version\":\"go1.23.2\",\"build_image_tag\":\"HEAD\",\"build_wv_version\":\"1.27.1\",\"level\":\"info\",\"msg\":\"Schema catching up: applying log entry: [115/115]\",\"time\":\"2024-11-10T10:56:15-03:00\"}\n",
      "{\"build_git_commit\":\"05de0dbea\",\"build_go_version\":\"go1.23.2\",\"build_image_tag\":\"HEAD\",\"build_wv_version\":\"1.27.1\",\"last_store_log_applied_index\":115,\"level\":\"info\",\"log_index\":115,\"log_name\":\"LogCommand\",\"log_type\":0,\"msg\":\"reloading local DB as RAFT and local DB are now caught up\",\"time\":\"2024-11-10T10:56:15-03:00\"}\n",
      "{\"build_git_commit\":\"05de0dbea\",\"build_go_version\":\"go1.23.2\",\"build_image_tag\":\"HEAD\",\"build_wv_version\":\"1.27.1\",\"level\":\"info\",\"msg\":\"reload local db: update schema ...\",\"time\":\"2024-11-10T10:56:15-03:00\"}\n",
      "{\"build_git_commit\":\"05de0dbea\",\"build_go_version\":\"go1.23.2\",\"build_image_tag\":\"HEAD\",\"build_wv_version\":\"1.27.1\",\"index\":\"Question\",\"level\":\"info\",\"msg\":\"reload local index\",\"time\":\"2024-11-10T10:56:15-03:00\"}\n",
      "{\"build_git_commit\":\"05de0dbea\",\"build_go_version\":\"go1.23.2\",\"build_image_tag\":\"HEAD\",\"build_wv_version\":\"1.27.1\",\"level\":\"info\",\"msg\":\"configured versions\",\"server_version\":\"1.27.1\",\"time\":\"2024-11-10T10:56:15-03:00\",\"version\":\"1.27.1\"}\n",
      "{\"action\":\"grpc_startup\",\"build_git_commit\":\"05de0dbea\",\"build_go_version\":\"go1.23.2\",\"build_image_tag\":\"HEAD\",\"build_wv_version\":\"1.27.1\",\"level\":\"info\",\"msg\":\"grpc server listening at [::]:50050\",\"time\":\"2024-11-10T10:56:15-03:00\"}\n",
      "{\"action\":\"restapi_management\",\"build_git_commit\":\"05de0dbea\",\"build_go_version\":\"go1.23.2\",\"build_image_tag\":\"HEAD\",\"build_wv_version\":\"1.27.1\",\"level\":\"info\",\"msg\":\"Serving weaviate at http://127.0.0.1:8079\",\"time\":\"2024-11-10T10:56:15-03:00\",\"version\":\"1.27.1\"}\n",
      "{\"address\":\"192.168.28.99:59667\",\"build_git_commit\":\"05de0dbea\",\"build_go_version\":\"go1.23.2\",\"build_image_tag\":\"HEAD\",\"build_wv_version\":\"1.27.1\",\"level\":\"info\",\"msg\":\"current Leader\",\"time\":\"2024-11-10T10:56:15-03:00\"}\n",
      "{\"build_git_commit\":\"05de0dbea\",\"build_go_version\":\"go1.23.2\",\"build_image_tag\":\"HEAD\",\"build_wv_version\":\"1.27.1\",\"level\":\"info\",\"msg\":\"attempting to join\",\"remoteNodes\":[\"192.168.28.99:59667\"],\"time\":\"2024-11-10T10:56:15-03:00\"}\n",
      "{\"action\":\"raft\",\"build_git_commit\":\"05de0dbea\",\"build_go_version\":\"go1.23.2\",\"build_image_tag\":\"HEAD\",\"build_wv_version\":\"1.27.1\",\"command\":0,\"follower\":{},\"from\":\"Embedded_at_8079\",\"id\":\"Embedded_at_8079\",\"index\":111,\"last-leader-addr\":\"\",\"last-leader-id\":\"\",\"leader\":{},\"leader-address\":\"\",\"leader-id\":\"\",\"level\":\"info\",\"msg\":\"updating configuration\",\"needed\":1,\"node\":{},\"refused\":0,\"server-addr\":\"192.168.28.99:59667\",\"server-id\":\"Embedded_at_8079\",\"servers\":\"[[{Suffrage:Voter ID:Embedded_at_8079 Address:192.168.28.99:59667}]]\",\"tally\":1,\"term\":37,\"time\":\"2024-11-10T10:56:15-03:00\",\"votesNeeded\":1}\n",
      "{\"action\":\"telemetry_push\",\"build_git_commit\":\"05de0dbea\",\"build_go_version\":\"go1.23.2\",\"build_image_tag\":\"HEAD\",\"build_wv_version\":\"1.27.1\",\"level\":\"info\",\"msg\":\"telemetry started\",\"payload\":\"\\u0026{MachineID:30cf6577-c933-4bdb-a619-3274d9afce50 Type:INIT Version:1.27.1 NumObjects:0 OS:darwin Arch:arm64 UsedModules:[generative-openai text2vec-openai]}\",\"time\":\"2024-11-10T10:56:15-03:00\"}\n",
      "{\"action\":\"hnsw_prefill_cache_async\",\"build_git_commit\":\"05de0dbea\",\"build_go_version\":\"go1.23.2\",\"build_image_tag\":\"HEAD\",\"build_wv_version\":\"1.27.1\",\"level\":\"info\",\"msg\":\"not waiting for vector cache prefill, running in background\",\"time\":\"2024-11-10T10:56:16-03:00\",\"wait_for_cache_prefill\":false}\n",
      "{\"build_git_commit\":\"05de0dbea\",\"build_go_version\":\"go1.23.2\",\"build_image_tag\":\"HEAD\",\"build_wv_version\":\"1.27.1\",\"level\":\"info\",\"msg\":\"Completed loading shard question_v6IbZoxdANGM in 4.539042ms\",\"time\":\"2024-11-10T10:56:16-03:00\"}\n",
      "{\"action\":\"hnsw_vector_cache_prefill\",\"build_git_commit\":\"05de0dbea\",\"build_go_version\":\"go1.23.2\",\"build_image_tag\":\"HEAD\",\"build_wv_version\":\"1.27.1\",\"count\":3000,\"index_id\":\"main\",\"level\":\"info\",\"limit\":1000000000000,\"msg\":\"prefilled vector cache\",\"time\":\"2024-11-10T10:56:16-03:00\",\"took\":331666}\n"
     ]
    }
   ],
   "source": [
    "# For using embedded\n",
    "import weaviate\n",
    "import os\n",
    "\n",
    "# remember to close the connection at the end!\n",
    "client = weaviate.connect_to_embedded(\n",
    "    version=\"1.27.1\",\n",
    "    headers = {\n",
    "        \"X-OpenAI-Api-Key\": os.environ[\"OPENAI_APIKEY\"]  # Replace with your inference API key\n",
    "    }\n",
    ")"
   ]
  },
  {
   "cell_type": "code",
   "execution_count": 27,
   "metadata": {},
   "outputs": [
    {
     "name": "stdout",
     "output_type": "stream",
     "text": [
      "Client is Ready? True\n",
      "Client Version: 4.9.3\n",
      "Server Version: 1.27.1\n"
     ]
    }
   ],
   "source": [
    "# lets check if our client is ready\n",
    "print(\"Client is Ready?\", client.is_ready())\n",
    "# lets check the client version\n",
    "print(\"Client Version:\", weaviate.__version__)\n",
    "# lets check the server version\n",
    "print(\"Server Version:\", client.get_meta().get(\"version\"))"
   ]
  },
  {
   "cell_type": "markdown",
   "metadata": {},
   "source": [
    "### Create a class"
   ]
  },
  {
   "cell_type": "code",
   "execution_count": 19,
   "metadata": {},
   "outputs": [],
   "source": [
    "if client.collections.exists(\"Question\"):\n",
    "    client.collections.delete(\"Question\")"
   ]
  },
  {
   "cell_type": "code",
   "execution_count": null,
   "metadata": {},
   "outputs": [
    {
     "name": "stderr",
     "output_type": "stream",
     "text": [
      "{\"build_git_commit\":\"05de0dbea\",\"build_go_version\":\"go1.23.2\",\"build_image_tag\":\"HEAD\",\"build_wv_version\":\"1.27.1\",\"level\":\"warning\",\"msg\":\"prop len tracker file /Users/dudanogueira/.local/share/weaviate/question/Ho4YWAbg0Vek/proplengths does not exist, creating new tracker\",\"time\":\"2024-11-10T10:56:23-03:00\"}\n",
      "{\"action\":\"hnsw_prefill_cache_async\",\"build_git_commit\":\"05de0dbea\",\"build_go_version\":\"go1.23.2\",\"build_image_tag\":\"HEAD\",\"build_wv_version\":\"1.27.1\",\"level\":\"info\",\"msg\":\"not waiting for vector cache prefill, running in background\",\"time\":\"2024-11-10T10:56:23-03:00\",\"wait_for_cache_prefill\":false}\n",
      "{\"build_git_commit\":\"05de0dbea\",\"build_go_version\":\"go1.23.2\",\"build_image_tag\":\"HEAD\",\"build_wv_version\":\"1.27.1\",\"level\":\"info\",\"msg\":\"Created shard question_Ho4YWAbg0Vek in 3.797083ms\",\"time\":\"2024-11-10T10:56:23-03:00\"}\n",
      "{\"action\":\"hnsw_vector_cache_prefill\",\"build_git_commit\":\"05de0dbea\",\"build_go_version\":\"go1.23.2\",\"build_image_tag\":\"HEAD\",\"build_wv_version\":\"1.27.1\",\"count\":1000,\"index_id\":\"main\",\"level\":\"info\",\"limit\":1000000000000,\"msg\":\"prefilled vector cache\",\"time\":\"2024-11-10T10:56:23-03:00\",\"took\":89584}\n"
     ]
    }
   ],
   "source": [
    "from weaviate import classes as wvc\n",
    "questions =  client.collections.create(\n",
    "    name=\"Question\",\n",
    "    vectorizer_config=wvc.config.Configure.Vectorizer.text2vec_openai(model=\"text-embedding-3-large\"),\n",
    "    generative_config=wvc.config.Configure.Generative.openai()\n",
    ")"
   ]
  },
  {
   "cell_type": "markdown",
   "metadata": {},
   "source": [
    "### Add objects\n",
    "\n",
    "We'll add objects to our Weaviate instance using a batch import process.\n",
    "\n",
    "We shows you two options, where you can either:\n",
    "- Have Weaviate create vectors, or\n",
    "- Specify custom vectors."
   ]
  },
  {
   "cell_type": "markdown",
   "metadata": {},
   "source": [
    "#### Have Weaviate create vectors (with `text2vec-openai`)"
   ]
  },
  {
   "cell_type": "code",
   "execution_count": null,
   "metadata": {},
   "outputs": [],
   "source": [
    "# Load data\n",
    "import requests\n",
    "import json\n",
    "\n",
    "url = 'https://raw.githubusercontent.com/weaviate-tutorials/quickstart/main/data/jeopardy_tiny.json'\n",
    "resp = requests.get(url)\n",
    "data = json.loads(resp.text)\n",
    "\n",
    "with questions.batch.dynamic() as batch:\n",
    "    for d in data:\n",
    "        batch.add_object({\n",
    "            \"answer\": d[\"Answer\"],\n",
    "            \"question\": d[\"Question\"],\n",
    "            \"category\": d[\"Category\"],\n",
    "        })\n",
    "# lets check if our batch had any errors\n",
    "print(questions.batch.failed_objects)"
   ]
  },
  {
   "cell_type": "markdown",
   "metadata": {},
   "source": [
    "#### Specify \"custom\" vectors (i.e. generated outside of Weaviate)"
   ]
  },
  {
   "cell_type": "code",
   "execution_count": null,
   "metadata": {},
   "outputs": [],
   "source": [
    "# # Load data\n",
    "# import requests\n",
    "# import json\n",
    "\n",
    "# url = 'https://raw.githubusercontent.com/weaviate-tutorials/quickstart/main/data/jeopardy_tiny.json'\n",
    "# resp = requests.get(url)\n",
    "# data = json.loads(resp.text)\n",
    "\n",
    "# with questions.batch.dynamic() as batch:\n",
    "#     for d in data:\n",
    "#         batch.add_object(\n",
    "#             {\n",
    "#                 \"answer\": d[\"Answer\"],\n",
    "#                 \"question\": d[\"Question\"],\n",
    "#                 \"category\": d[\"Category\"],\n",
    "#             },\n",
    "#             vector=d[\"vector\"] # passing the vector here\n",
    "#         )"
   ]
  },
  {
   "cell_type": "markdown",
   "metadata": {},
   "source": [
    "### Queries"
   ]
  },
  {
   "cell_type": "markdown",
   "metadata": {},
   "source": [
    "#### Semantic search\n",
    "\n",
    "Let's try a similarity search. We'll use nearText search to look for quiz objects most similar to biology."
   ]
  },
  {
   "cell_type": "code",
   "execution_count": 22,
   "metadata": {},
   "outputs": [
    {
     "name": "stdout",
     "output_type": "stream",
     "text": [
      "{\n",
      "  \"answer\": \"species\",\n",
      "  \"question\": \"2000 news: the Gunnison sage grouse isn't just another northern sage grouse, but a new one of this classification\",\n",
      "  \"category\": \"SCIENCE\"\n",
      "}\n",
      "{\n",
      "  \"answer\": \"DNA\",\n",
      "  \"question\": \"In 1953 Watson & Crick built a model of the molecular structure of this, the gene-carrying substance\",\n",
      "  \"category\": \"SCIENCE\"\n",
      "}\n"
     ]
    }
   ],
   "source": [
    "response = questions.query.near_text(\n",
    "    query=\"biology\",\n",
    "    limit=2\n",
    ")\n",
    "\n",
    "for obj in response.objects:\n",
    "    print(json.dumps(obj.properties, indent=2))"
   ]
  },
  {
   "cell_type": "markdown",
   "metadata": {},
   "source": [
    "The response includes a list of top 2 (due to the limit set) objects whose vectors are most similar to the word biology.\n",
    "\n",
    "Notice that even though the word biology does not appear anywhere, Weaviate returns biology-related entries.\n",
    "\n",
    "This example shows why vector searches are powerful. Vectorized data objects allow for searches based on degrees of similarity, as shown here."
   ]
  },
  {
   "cell_type": "markdown",
   "metadata": {},
   "source": [
    "#### Semantic search with a filter\n",
    "You can add a Boolean filter to your example. For example, let's run the same search, but only look in objects that have a \"category\" value of \"ANIMALS\"."
   ]
  },
  {
   "cell_type": "code",
   "execution_count": 23,
   "metadata": {},
   "outputs": [
    {
     "name": "stdout",
     "output_type": "stream",
     "text": [
      "{\n",
      "  \"answer\": \"the nose or snout\",\n",
      "  \"question\": \"The gavial looks very much like a crocodile except for this bodily feature\",\n",
      "  \"category\": \"ANIMALS\"\n",
      "}\n",
      "{\n",
      "  \"answer\": \"Elephant\",\n",
      "  \"question\": \"It's the only living mammal in the order Proboseidea\",\n",
      "  \"category\": \"ANIMALS\"\n",
      "}\n"
     ]
    }
   ],
   "source": [
    "response = questions.query.near_text(\n",
    "    query=\"biology\",\n",
    "    limit=2,\n",
    "    filters=(\n",
    "        wvc.query.Filter.by_property(\"category\").equal(\"ANIMALS\")\n",
    "    )\n",
    ")\n",
    "\n",
    "for obj in response.objects:\n",
    "    print(json.dumps(obj.properties, indent=2))"
   ]
  },
  {
   "cell_type": "markdown",
   "metadata": {},
   "source": [
    "The response includes a list of top 2 (due to the limit set) objects whose vectors are most similar to the word biology - but only from the \"ANIMALS\" category.\n",
    "\n",
    "Using a Boolean filter allows you to combine the flexibility of vector search with the precision of where filters."
   ]
  },
  {
   "cell_type": "markdown",
   "metadata": {},
   "source": [
    "#### Generative search (single prompt)\n",
    "\n",
    "Next, let's try a generative search, where search results are processed with a large language model (LLM).\n",
    "\n",
    "Here, we use a `single prompt` query, and the model to explain each answer in plain terms."
   ]
  },
  {
   "cell_type": "code",
   "execution_count": 25,
   "metadata": {},
   "outputs": [
    {
     "name": "stdout",
     "output_type": "stream",
     "text": [
      "###\n",
      "Properties: {'answer': 'species', 'question': \"2000 news: the Gunnison sage grouse isn't just another northern sage grouse, but a new one of this classification\", 'category': 'SCIENCE'}\n",
      "Generated Content: A species is a group of animals or plants that are similar to each other in certain ways. They look alike and can have babies that also look like them. Each species has its own special characteristics that make them unique.\n",
      "###\n",
      "Properties: {'answer': 'DNA', 'question': 'In 1953 Watson & Crick built a model of the molecular structure of this, the gene-carrying substance', 'category': 'SCIENCE'}\n",
      "Generated Content: DNA is like a recipe book that tells our bodies how to grow and work. It is made up of tiny instructions called genes that tell our bodies what color our eyes will be, how tall we will grow, and lots of other things that make us who we are. Just like how a recipe book helps us make yummy food, DNA helps our bodies do all the amazing things they can do!\n"
     ]
    }
   ],
   "source": [
    "response = questions.generate.near_text(\n",
    "    query=\"biology\",\n",
    "    limit=2,\n",
    "    single_prompt=\"Explain {answer} as you might to a five-year-old.\"\n",
    ")\n",
    "for obj in response.objects:\n",
    "    print(\"###\")\n",
    "    print(\"Properties:\", obj.properties)\n",
    "    print(\"Generated Content:\", obj.generated)"
   ]
  },
  {
   "cell_type": "markdown",
   "metadata": {},
   "source": [
    "We see that Weaviate has retrieved the same results as before. But now it includes an additional, generated text with a plain-language explanation of each answer."
   ]
  },
  {
   "cell_type": "markdown",
   "metadata": {},
   "source": [
    "#### Generative search (grouped task)\n",
    "\n",
    "In the next example, we will use a grouped task prompt instead to combine all search results and send them to the LLM with a prompt. We ask the LLM to write a tweet about all of these search results."
   ]
  },
  {
   "cell_type": "code",
   "execution_count": 26,
   "metadata": {},
   "outputs": [
    {
     "name": "stdout",
     "output_type": "stream",
     "text": [
      "🌿🐦 2000 news: the Gunnison sage grouse is a new species of sage grouse! 🌿🐦\n",
      "\n",
      "🧬 In 1953 Watson & Crick discovered the structure of DNA, the gene-carrying substance! 🧬 #ScienceFacts #NewSpecies #DNADiscovery 🌿🧬\n"
     ]
    }
   ],
   "source": [
    "response = questions.generate.near_text(\n",
    "    query=\"biology\",\n",
    "    limit=2,\n",
    "    grouped_task=\"Write a tweet with emojis about these facts.\"\n",
    ")\n",
    "\n",
    "print(response.generated)  # Inspect the generated text"
   ]
  },
  {
   "cell_type": "markdown",
   "metadata": {},
   "source": [
    "Generative search sends retrieved data from Weaviate to a large language model, or LLM. This allows you to go beyond simple data retrieval, but transform the data into a more useful form, without ever leaving Weaviate."
   ]
  },
  {
   "cell_type": "markdown",
   "metadata": {},
   "source": [
    "Well done! In just a few short minutes, you have:\n",
    "\n",
    "- Created your own cloud-based vector database with Weaviate,\n",
    "- Populated it with data objects,\n",
    "    - Using an inference API, or\n",
    "    - Using custom vectors,\n",
    "- Performed searches, including:\n",
    "    - Semantic search,\n",
    "    - Sementic search with a filter and\n",
    "    - Generative search."
   ]
  },
  {
   "cell_type": "markdown",
   "metadata": {},
   "source": [
    "## Next\n",
    "\n",
    "You can do much more with Weaviate. We suggest trying:\n",
    "\n",
    "- Examples from our [search how-to](https://weaviate.io/developers/weaviate/search) guides for [keyword](https://weaviate.io/developers/weaviate/search/bm25), [similarity](https://weaviate.io/developers/weaviate/search/similarity), [hybrid](https://weaviate.io/developers/weaviate/search/hybrid), [generative](https://weaviate.io/developers/weaviate/search/generative) searches and [filters](https://weaviate.io/developers/weaviate/search/filters) or\n",
    "- Learning [how to manage data](https://weaviate.io/developers/weaviate/manage-data), like [reading](https://weaviate.io/developers/weaviate/manage-data/read), [batch importing](https://weaviate.io/developers/weaviate/manage-data/import), [updating](https://weaviate.io/developers/weaviate/manage-data/update), [deleting](https://weaviate.io/developers/weaviate/manage-data/delete) objects or [bulk exporting](https://weaviate.io/developers/weaviate/manage-data/read-all-objects) data.\n",
    "\n",
    "For more holistic learning, try <i class=\"fa-solid fa-graduation-cap\"></i> [Weaviate Academy](https://weaviate.io/developers/academy). We have built free courses for you to learn about Weaviate and the world of vector search.\n",
    "\n",
    "You can also try a larger, [1,000 row](https://raw.githubusercontent.com/databyjp/wv_demo_uploader/main/weaviate_datasets/data/jeopardy_1k.json) version of the Jeopardy! dataset, or [this tiny set of 50 wine reviews](https://raw.githubusercontent.com/databyjp/wv_demo_uploader/main/weaviate_datasets/data/winemag_tiny.csv)."
   ]
  },
  {
   "cell_type": "markdown",
   "metadata": {},
   "source": []
  }
 ],
 "metadata": {
  "kernelspec": {
   "display_name": ".venv",
   "language": "python",
   "name": "python3"
  },
  "language_info": {
   "codemirror_mode": {
    "name": "ipython",
    "version": 3
   },
   "file_extension": ".py",
   "mimetype": "text/x-python",
   "name": "python",
   "nbconvert_exporter": "python",
   "pygments_lexer": "ipython3",
   "version": "3.12.5"
  },
  "orig_nbformat": 4
 },
 "nbformat": 4,
 "nbformat_minor": 2
}
